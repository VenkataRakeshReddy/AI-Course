{
  "nbformat": 4,
  "nbformat_minor": 0,
  "metadata": {
    "colab": {
      "name": "AI Assignment.ipynb",
      "provenance": [],
      "authorship_tag": "ABX9TyP94nBSd4cqHyuUx/3UaLn8",
      "include_colab_link": true
    },
    "kernelspec": {
      "name": "python3",
      "display_name": "Python 3"
    },
    "language_info": {
      "name": "python"
    }
  },
  "cells": [
    {
      "cell_type": "markdown",
      "metadata": {
        "id": "view-in-github",
        "colab_type": "text"
      },
      "source": [
        "<a href=\"https://colab.research.google.com/github/VenkataRakeshReddy/AI-Course/blob/main/AI_Assignment.ipynb\" target=\"_parent\"><img src=\"https://colab.research.google.com/assets/colab-badge.svg\" alt=\"Open In Colab\"/></a>"
      ]
    },
    {
      "cell_type": "code",
      "execution_count": 1,
      "metadata": {
        "colab": {
          "resources": {
            "http://localhost:8080/nbextensions/google.colab/files.js": {
              "data": "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",
              "ok": true,
              "headers": [
                [
                  "content-type",
                  "application/javascript"
                ]
              ],
              "status": 200,
              "status_text": ""
            }
          },
          "base_uri": "https://localhost:8080/",
          "height": 73
        },
        "id": "33EGkw1PXZuE",
        "outputId": "4406c382-ba24-4989-e5f7-b4cd1478922a"
      },
      "outputs": [
        {
          "output_type": "display_data",
          "data": {
            "text/plain": [
              "<IPython.core.display.HTML object>"
            ],
            "text/html": [
              "\n",
              "     <input type=\"file\" id=\"files-8443d6a3-2fff-4ecb-9925-32e80b7809e5\" name=\"files[]\" multiple disabled\n",
              "        style=\"border:none\" />\n",
              "     <output id=\"result-8443d6a3-2fff-4ecb-9925-32e80b7809e5\">\n",
              "      Upload widget is only available when the cell has been executed in the\n",
              "      current browser session. Please rerun this cell to enable.\n",
              "      </output>\n",
              "      <script src=\"/nbextensions/google.colab/files.js\"></script> "
            ]
          },
          "metadata": {}
        },
        {
          "output_type": "stream",
          "name": "stdout",
          "text": [
            "Saving basketball_Player data.csv to basketball_Player data.csv\n"
          ]
        }
      ],
      "source": [
        "from google.colab import files\n",
        "uploaded=files.upload()"
      ]
    },
    {
      "cell_type": "code",
      "source": [
        "import pandas as pd\n",
        "import numpy as np\n",
        "import io\n",
        "import matplotlib.pyplot as plt\n",
        "import seaborn as sns"
      ],
      "metadata": {
        "id": "c4_NJRuWX9z4"
      },
      "execution_count": 2,
      "outputs": []
    },
    {
      "cell_type": "code",
      "source": [
        "df = pd.read_csv(\"basketball_Player data.csv\")"
      ],
      "metadata": {
        "id": "VV0JqcmQZqiZ"
      },
      "execution_count": 3,
      "outputs": []
    },
    {
      "cell_type": "code",
      "source": [
        "df = df[[\"Age\",\"Games\",\"Minutes Played\",\"True Shooting(%)\",\"Threepoint Attempt rate\",\"Free throw attempt rate\",\"Player Efficiency Rating\"]]\n",
        "df.head()"
      ],
      "metadata": {
        "colab": {
          "base_uri": "https://localhost:8080/",
          "height": 206
        },
        "id": "lA6zyA7OZz23",
        "outputId": "2ae06fd1-7cdd-4fac-dbde-ba91a46ad4c2"
      },
      "execution_count": 4,
      "outputs": [
        {
          "output_type": "execute_result",
          "data": {
            "text/plain": [
              "   Age  Games  Minutes Played  True Shooting(%)  Threepoint Attempt rate  \\\n",
              "0   21     28           408.0             0.599                    0.000   \n",
              "1   24      6            17.0             0.125                    0.250   \n",
              "2   27     27           760.0             0.592                      NaN   \n",
              "3   23     26           873.0             0.641                    0.015   \n",
              "4   35     18           480.0             0.542                    0.298   \n",
              "\n",
              "   Free throw attempt rate  Player Efficiency Rating  \n",
              "0                    0.541                      15.1  \n",
              "1                    0.000                      -6.9  \n",
              "2                    0.397                      15.9  \n",
              "3                    0.469                      22.7  \n",
              "4                    0.093                      15.2  "
            ],
            "text/html": [
              "\n",
              "  <div id=\"df-169c7252-5619-48bd-8deb-eb428d979b9f\">\n",
              "    <div class=\"colab-df-container\">\n",
              "      <div>\n",
              "<style scoped>\n",
              "    .dataframe tbody tr th:only-of-type {\n",
              "        vertical-align: middle;\n",
              "    }\n",
              "\n",
              "    .dataframe tbody tr th {\n",
              "        vertical-align: top;\n",
              "    }\n",
              "\n",
              "    .dataframe thead th {\n",
              "        text-align: right;\n",
              "    }\n",
              "</style>\n",
              "<table border=\"1\" class=\"dataframe\">\n",
              "  <thead>\n",
              "    <tr style=\"text-align: right;\">\n",
              "      <th></th>\n",
              "      <th>Age</th>\n",
              "      <th>Games</th>\n",
              "      <th>Minutes Played</th>\n",
              "      <th>True Shooting(%)</th>\n",
              "      <th>Threepoint Attempt rate</th>\n",
              "      <th>Free throw attempt rate</th>\n",
              "      <th>Player Efficiency Rating</th>\n",
              "    </tr>\n",
              "  </thead>\n",
              "  <tbody>\n",
              "    <tr>\n",
              "      <th>0</th>\n",
              "      <td>21</td>\n",
              "      <td>28</td>\n",
              "      <td>408.0</td>\n",
              "      <td>0.599</td>\n",
              "      <td>0.000</td>\n",
              "      <td>0.541</td>\n",
              "      <td>15.1</td>\n",
              "    </tr>\n",
              "    <tr>\n",
              "      <th>1</th>\n",
              "      <td>24</td>\n",
              "      <td>6</td>\n",
              "      <td>17.0</td>\n",
              "      <td>0.125</td>\n",
              "      <td>0.250</td>\n",
              "      <td>0.000</td>\n",
              "      <td>-6.9</td>\n",
              "    </tr>\n",
              "    <tr>\n",
              "      <th>2</th>\n",
              "      <td>27</td>\n",
              "      <td>27</td>\n",
              "      <td>760.0</td>\n",
              "      <td>0.592</td>\n",
              "      <td>NaN</td>\n",
              "      <td>0.397</td>\n",
              "      <td>15.9</td>\n",
              "    </tr>\n",
              "    <tr>\n",
              "      <th>3</th>\n",
              "      <td>23</td>\n",
              "      <td>26</td>\n",
              "      <td>873.0</td>\n",
              "      <td>0.641</td>\n",
              "      <td>0.015</td>\n",
              "      <td>0.469</td>\n",
              "      <td>22.7</td>\n",
              "    </tr>\n",
              "    <tr>\n",
              "      <th>4</th>\n",
              "      <td>35</td>\n",
              "      <td>18</td>\n",
              "      <td>480.0</td>\n",
              "      <td>0.542</td>\n",
              "      <td>0.298</td>\n",
              "      <td>0.093</td>\n",
              "      <td>15.2</td>\n",
              "    </tr>\n",
              "  </tbody>\n",
              "</table>\n",
              "</div>\n",
              "      <button class=\"colab-df-convert\" onclick=\"convertToInteractive('df-169c7252-5619-48bd-8deb-eb428d979b9f')\"\n",
              "              title=\"Convert this dataframe to an interactive table.\"\n",
              "              style=\"display:none;\">\n",
              "        \n",
              "  <svg xmlns=\"http://www.w3.org/2000/svg\" height=\"24px\"viewBox=\"0 0 24 24\"\n",
              "       width=\"24px\">\n",
              "    <path d=\"M0 0h24v24H0V0z\" fill=\"none\"/>\n",
              "    <path d=\"M18.56 5.44l.94 2.06.94-2.06 2.06-.94-2.06-.94-.94-2.06-.94 2.06-2.06.94zm-11 1L8.5 8.5l.94-2.06 2.06-.94-2.06-.94L8.5 2.5l-.94 2.06-2.06.94zm10 10l.94 2.06.94-2.06 2.06-.94-2.06-.94-.94-2.06-.94 2.06-2.06.94z\"/><path d=\"M17.41 7.96l-1.37-1.37c-.4-.4-.92-.59-1.43-.59-.52 0-1.04.2-1.43.59L10.3 9.45l-7.72 7.72c-.78.78-.78 2.05 0 2.83L4 21.41c.39.39.9.59 1.41.59.51 0 1.02-.2 1.41-.59l7.78-7.78 2.81-2.81c.8-.78.8-2.07 0-2.86zM5.41 20L4 18.59l7.72-7.72 1.47 1.35L5.41 20z\"/>\n",
              "  </svg>\n",
              "      </button>\n",
              "      \n",
              "  <style>\n",
              "    .colab-df-container {\n",
              "      display:flex;\n",
              "      flex-wrap:wrap;\n",
              "      gap: 12px;\n",
              "    }\n",
              "\n",
              "    .colab-df-convert {\n",
              "      background-color: #E8F0FE;\n",
              "      border: none;\n",
              "      border-radius: 50%;\n",
              "      cursor: pointer;\n",
              "      display: none;\n",
              "      fill: #1967D2;\n",
              "      height: 32px;\n",
              "      padding: 0 0 0 0;\n",
              "      width: 32px;\n",
              "    }\n",
              "\n",
              "    .colab-df-convert:hover {\n",
              "      background-color: #E2EBFA;\n",
              "      box-shadow: 0px 1px 2px rgba(60, 64, 67, 0.3), 0px 1px 3px 1px rgba(60, 64, 67, 0.15);\n",
              "      fill: #174EA6;\n",
              "    }\n",
              "\n",
              "    [theme=dark] .colab-df-convert {\n",
              "      background-color: #3B4455;\n",
              "      fill: #D2E3FC;\n",
              "    }\n",
              "\n",
              "    [theme=dark] .colab-df-convert:hover {\n",
              "      background-color: #434B5C;\n",
              "      box-shadow: 0px 1px 3px 1px rgba(0, 0, 0, 0.15);\n",
              "      filter: drop-shadow(0px 1px 2px rgba(0, 0, 0, 0.3));\n",
              "      fill: #FFFFFF;\n",
              "    }\n",
              "  </style>\n",
              "\n",
              "      <script>\n",
              "        const buttonEl =\n",
              "          document.querySelector('#df-169c7252-5619-48bd-8deb-eb428d979b9f button.colab-df-convert');\n",
              "        buttonEl.style.display =\n",
              "          google.colab.kernel.accessAllowed ? 'block' : 'none';\n",
              "\n",
              "        async function convertToInteractive(key) {\n",
              "          const element = document.querySelector('#df-169c7252-5619-48bd-8deb-eb428d979b9f');\n",
              "          const dataTable =\n",
              "            await google.colab.kernel.invokeFunction('convertToInteractive',\n",
              "                                                     [key], {});\n",
              "          if (!dataTable) return;\n",
              "\n",
              "          const docLinkHtml = 'Like what you see? Visit the ' +\n",
              "            '<a target=\"_blank\" href=https://colab.research.google.com/notebooks/data_table.ipynb>data table notebook</a>'\n",
              "            + ' to learn more about interactive tables.';\n",
              "          element.innerHTML = '';\n",
              "          dataTable['output_type'] = 'display_data';\n",
              "          await google.colab.output.renderOutput(dataTable, element);\n",
              "          const docLink = document.createElement('div');\n",
              "          docLink.innerHTML = docLinkHtml;\n",
              "          element.appendChild(docLink);\n",
              "        }\n",
              "      </script>\n",
              "    </div>\n",
              "  </div>\n",
              "  "
            ]
          },
          "metadata": {},
          "execution_count": 4
        }
      ]
    },
    {
      "cell_type": "code",
      "source": [
        "df"
      ],
      "metadata": {
        "colab": {
          "base_uri": "https://localhost:8080/",
          "height": 424
        },
        "id": "EErJeCORZ2a0",
        "outputId": "b1a1df35-fc4b-4815-b19e-2e11c323becf"
      },
      "execution_count": 5,
      "outputs": [
        {
          "output_type": "execute_result",
          "data": {
            "text/plain": [
              "     Age  Games  Minutes Played  True Shooting(%)  Threepoint Attempt rate  \\\n",
              "0     21     28           408.0             0.599                    0.000   \n",
              "1     24      6            17.0             0.125                    0.250   \n",
              "2     27     27           760.0             0.592                      NaN   \n",
              "3     23     26           873.0             0.641                    0.015   \n",
              "4     35     18           480.0             0.542                    0.298   \n",
              "..   ...    ...             ...               ...                      ...   \n",
              "492   28     28           823.0             0.559                    0.298   \n",
              "493   32     23           592.0             0.597                    0.104   \n",
              "494   22     26           901.0             0.598                    0.349   \n",
              "495   28     15           361.0             0.569                    0.133   \n",
              "496   23     30           586.0             0.722                    0.007   \n",
              "\n",
              "     Free throw attempt rate  Player Efficiency Rating  \n",
              "0                      0.541                      15.1  \n",
              "1                      0.000                      -6.9  \n",
              "2                      0.397                      15.9  \n",
              "3                      0.469                      22.7  \n",
              "4                      0.093                      15.2  \n",
              "..                       ...                       ...  \n",
              "492                    0.346                      16.6  \n",
              "493                    0.169                      18.5  \n",
              "494                    0.577                      22.9  \n",
              "495                    0.242                      18.2  \n",
              "496                    0.500                      20.5  \n",
              "\n",
              "[497 rows x 7 columns]"
            ],
            "text/html": [
              "\n",
              "  <div id=\"df-79285be3-0f83-4a23-8440-d0b7ee73be99\">\n",
              "    <div class=\"colab-df-container\">\n",
              "      <div>\n",
              "<style scoped>\n",
              "    .dataframe tbody tr th:only-of-type {\n",
              "        vertical-align: middle;\n",
              "    }\n",
              "\n",
              "    .dataframe tbody tr th {\n",
              "        vertical-align: top;\n",
              "    }\n",
              "\n",
              "    .dataframe thead th {\n",
              "        text-align: right;\n",
              "    }\n",
              "</style>\n",
              "<table border=\"1\" class=\"dataframe\">\n",
              "  <thead>\n",
              "    <tr style=\"text-align: right;\">\n",
              "      <th></th>\n",
              "      <th>Age</th>\n",
              "      <th>Games</th>\n",
              "      <th>Minutes Played</th>\n",
              "      <th>True Shooting(%)</th>\n",
              "      <th>Threepoint Attempt rate</th>\n",
              "      <th>Free throw attempt rate</th>\n",
              "      <th>Player Efficiency Rating</th>\n",
              "    </tr>\n",
              "  </thead>\n",
              "  <tbody>\n",
              "    <tr>\n",
              "      <th>0</th>\n",
              "      <td>21</td>\n",
              "      <td>28</td>\n",
              "      <td>408.0</td>\n",
              "      <td>0.599</td>\n",
              "      <td>0.000</td>\n",
              "      <td>0.541</td>\n",
              "      <td>15.1</td>\n",
              "    </tr>\n",
              "    <tr>\n",
              "      <th>1</th>\n",
              "      <td>24</td>\n",
              "      <td>6</td>\n",
              "      <td>17.0</td>\n",
              "      <td>0.125</td>\n",
              "      <td>0.250</td>\n",
              "      <td>0.000</td>\n",
              "      <td>-6.9</td>\n",
              "    </tr>\n",
              "    <tr>\n",
              "      <th>2</th>\n",
              "      <td>27</td>\n",
              "      <td>27</td>\n",
              "      <td>760.0</td>\n",
              "      <td>0.592</td>\n",
              "      <td>NaN</td>\n",
              "      <td>0.397</td>\n",
              "      <td>15.9</td>\n",
              "    </tr>\n",
              "    <tr>\n",
              "      <th>3</th>\n",
              "      <td>23</td>\n",
              "      <td>26</td>\n",
              "      <td>873.0</td>\n",
              "      <td>0.641</td>\n",
              "      <td>0.015</td>\n",
              "      <td>0.469</td>\n",
              "      <td>22.7</td>\n",
              "    </tr>\n",
              "    <tr>\n",
              "      <th>4</th>\n",
              "      <td>35</td>\n",
              "      <td>18</td>\n",
              "      <td>480.0</td>\n",
              "      <td>0.542</td>\n",
              "      <td>0.298</td>\n",
              "      <td>0.093</td>\n",
              "      <td>15.2</td>\n",
              "    </tr>\n",
              "    <tr>\n",
              "      <th>...</th>\n",
              "      <td>...</td>\n",
              "      <td>...</td>\n",
              "      <td>...</td>\n",
              "      <td>...</td>\n",
              "      <td>...</td>\n",
              "      <td>...</td>\n",
              "      <td>...</td>\n",
              "    </tr>\n",
              "    <tr>\n",
              "      <th>492</th>\n",
              "      <td>28</td>\n",
              "      <td>28</td>\n",
              "      <td>823.0</td>\n",
              "      <td>0.559</td>\n",
              "      <td>0.298</td>\n",
              "      <td>0.346</td>\n",
              "      <td>16.6</td>\n",
              "    </tr>\n",
              "    <tr>\n",
              "      <th>493</th>\n",
              "      <td>32</td>\n",
              "      <td>23</td>\n",
              "      <td>592.0</td>\n",
              "      <td>0.597</td>\n",
              "      <td>0.104</td>\n",
              "      <td>0.169</td>\n",
              "      <td>18.5</td>\n",
              "    </tr>\n",
              "    <tr>\n",
              "      <th>494</th>\n",
              "      <td>22</td>\n",
              "      <td>26</td>\n",
              "      <td>901.0</td>\n",
              "      <td>0.598</td>\n",
              "      <td>0.349</td>\n",
              "      <td>0.577</td>\n",
              "      <td>22.9</td>\n",
              "    </tr>\n",
              "    <tr>\n",
              "      <th>495</th>\n",
              "      <td>28</td>\n",
              "      <td>15</td>\n",
              "      <td>361.0</td>\n",
              "      <td>0.569</td>\n",
              "      <td>0.133</td>\n",
              "      <td>0.242</td>\n",
              "      <td>18.2</td>\n",
              "    </tr>\n",
              "    <tr>\n",
              "      <th>496</th>\n",
              "      <td>23</td>\n",
              "      <td>30</td>\n",
              "      <td>586.0</td>\n",
              "      <td>0.722</td>\n",
              "      <td>0.007</td>\n",
              "      <td>0.500</td>\n",
              "      <td>20.5</td>\n",
              "    </tr>\n",
              "  </tbody>\n",
              "</table>\n",
              "<p>497 rows × 7 columns</p>\n",
              "</div>\n",
              "      <button class=\"colab-df-convert\" onclick=\"convertToInteractive('df-79285be3-0f83-4a23-8440-d0b7ee73be99')\"\n",
              "              title=\"Convert this dataframe to an interactive table.\"\n",
              "              style=\"display:none;\">\n",
              "        \n",
              "  <svg xmlns=\"http://www.w3.org/2000/svg\" height=\"24px\"viewBox=\"0 0 24 24\"\n",
              "       width=\"24px\">\n",
              "    <path d=\"M0 0h24v24H0V0z\" fill=\"none\"/>\n",
              "    <path d=\"M18.56 5.44l.94 2.06.94-2.06 2.06-.94-2.06-.94-.94-2.06-.94 2.06-2.06.94zm-11 1L8.5 8.5l.94-2.06 2.06-.94-2.06-.94L8.5 2.5l-.94 2.06-2.06.94zm10 10l.94 2.06.94-2.06 2.06-.94-2.06-.94-.94-2.06-.94 2.06-2.06.94z\"/><path d=\"M17.41 7.96l-1.37-1.37c-.4-.4-.92-.59-1.43-.59-.52 0-1.04.2-1.43.59L10.3 9.45l-7.72 7.72c-.78.78-.78 2.05 0 2.83L4 21.41c.39.39.9.59 1.41.59.51 0 1.02-.2 1.41-.59l7.78-7.78 2.81-2.81c.8-.78.8-2.07 0-2.86zM5.41 20L4 18.59l7.72-7.72 1.47 1.35L5.41 20z\"/>\n",
              "  </svg>\n",
              "      </button>\n",
              "      \n",
              "  <style>\n",
              "    .colab-df-container {\n",
              "      display:flex;\n",
              "      flex-wrap:wrap;\n",
              "      gap: 12px;\n",
              "    }\n",
              "\n",
              "    .colab-df-convert {\n",
              "      background-color: #E8F0FE;\n",
              "      border: none;\n",
              "      border-radius: 50%;\n",
              "      cursor: pointer;\n",
              "      display: none;\n",
              "      fill: #1967D2;\n",
              "      height: 32px;\n",
              "      padding: 0 0 0 0;\n",
              "      width: 32px;\n",
              "    }\n",
              "\n",
              "    .colab-df-convert:hover {\n",
              "      background-color: #E2EBFA;\n",
              "      box-shadow: 0px 1px 2px rgba(60, 64, 67, 0.3), 0px 1px 3px 1px rgba(60, 64, 67, 0.15);\n",
              "      fill: #174EA6;\n",
              "    }\n",
              "\n",
              "    [theme=dark] .colab-df-convert {\n",
              "      background-color: #3B4455;\n",
              "      fill: #D2E3FC;\n",
              "    }\n",
              "\n",
              "    [theme=dark] .colab-df-convert:hover {\n",
              "      background-color: #434B5C;\n",
              "      box-shadow: 0px 1px 3px 1px rgba(0, 0, 0, 0.15);\n",
              "      filter: drop-shadow(0px 1px 2px rgba(0, 0, 0, 0.3));\n",
              "      fill: #FFFFFF;\n",
              "    }\n",
              "  </style>\n",
              "\n",
              "      <script>\n",
              "        const buttonEl =\n",
              "          document.querySelector('#df-79285be3-0f83-4a23-8440-d0b7ee73be99 button.colab-df-convert');\n",
              "        buttonEl.style.display =\n",
              "          google.colab.kernel.accessAllowed ? 'block' : 'none';\n",
              "\n",
              "        async function convertToInteractive(key) {\n",
              "          const element = document.querySelector('#df-79285be3-0f83-4a23-8440-d0b7ee73be99');\n",
              "          const dataTable =\n",
              "            await google.colab.kernel.invokeFunction('convertToInteractive',\n",
              "                                                     [key], {});\n",
              "          if (!dataTable) return;\n",
              "\n",
              "          const docLinkHtml = 'Like what you see? Visit the ' +\n",
              "            '<a target=\"_blank\" href=https://colab.research.google.com/notebooks/data_table.ipynb>data table notebook</a>'\n",
              "            + ' to learn more about interactive tables.';\n",
              "          element.innerHTML = '';\n",
              "          dataTable['output_type'] = 'display_data';\n",
              "          await google.colab.output.renderOutput(dataTable, element);\n",
              "          const docLink = document.createElement('div');\n",
              "          docLink.innerHTML = docLinkHtml;\n",
              "          element.appendChild(docLink);\n",
              "        }\n",
              "      </script>\n",
              "    </div>\n",
              "  </div>\n",
              "  "
            ]
          },
          "metadata": {},
          "execution_count": 5
        }
      ]
    },
    {
      "cell_type": "code",
      "source": [
        "df.describe()"
      ],
      "metadata": {
        "colab": {
          "base_uri": "https://localhost:8080/",
          "height": 300
        },
        "id": "Tc9kSUOJZ79P",
        "outputId": "734b5687-0507-4797-d331-7b69a3a5b055"
      },
      "execution_count": 6,
      "outputs": [
        {
          "output_type": "execute_result",
          "data": {
            "text/plain": [
              "              Age       Games  Minutes Played  True Shooting(%)  \\\n",
              "count  497.000000  497.000000      495.000000        494.000000   \n",
              "mean    25.623742   18.456740      416.492929          0.538939   \n",
              "std      4.054229    8.311394      297.543620          0.130360   \n",
              "min     19.000000    1.000000        2.000000          0.000000   \n",
              "25%     22.000000   12.000000      127.000000          0.500000   \n",
              "50%     25.000000   20.000000      417.000000          0.556000   \n",
              "75%     28.000000   26.000000      665.500000          0.607000   \n",
              "max     37.000000   30.000000     1101.000000          1.500000   \n",
              "\n",
              "       Threepoint Attempt rate  Free throw attempt rate  \\\n",
              "count               495.000000               495.000000   \n",
              "mean                  0.406362                 0.274804   \n",
              "std                   0.234207                 0.270650   \n",
              "min                   0.000000                 0.000000   \n",
              "25%                   0.255000                 0.142000   \n",
              "50%                   0.418000                 0.227000   \n",
              "75%                   0.566000                 0.318000   \n",
              "max                   1.000000                 2.667000   \n",
              "\n",
              "       Player Efficiency Rating  \n",
              "count                497.000000  \n",
              "mean                  12.646278  \n",
              "std                    7.404316  \n",
              "min                  -40.900000  \n",
              "25%                    9.300000  \n",
              "50%                   12.600000  \n",
              "75%                   16.700000  \n",
              "max                   38.700000  "
            ],
            "text/html": [
              "\n",
              "  <div id=\"df-e0759ee1-5244-46f2-b72b-babc39f69913\">\n",
              "    <div class=\"colab-df-container\">\n",
              "      <div>\n",
              "<style scoped>\n",
              "    .dataframe tbody tr th:only-of-type {\n",
              "        vertical-align: middle;\n",
              "    }\n",
              "\n",
              "    .dataframe tbody tr th {\n",
              "        vertical-align: top;\n",
              "    }\n",
              "\n",
              "    .dataframe thead th {\n",
              "        text-align: right;\n",
              "    }\n",
              "</style>\n",
              "<table border=\"1\" class=\"dataframe\">\n",
              "  <thead>\n",
              "    <tr style=\"text-align: right;\">\n",
              "      <th></th>\n",
              "      <th>Age</th>\n",
              "      <th>Games</th>\n",
              "      <th>Minutes Played</th>\n",
              "      <th>True Shooting(%)</th>\n",
              "      <th>Threepoint Attempt rate</th>\n",
              "      <th>Free throw attempt rate</th>\n",
              "      <th>Player Efficiency Rating</th>\n",
              "    </tr>\n",
              "  </thead>\n",
              "  <tbody>\n",
              "    <tr>\n",
              "      <th>count</th>\n",
              "      <td>497.000000</td>\n",
              "      <td>497.000000</td>\n",
              "      <td>495.000000</td>\n",
              "      <td>494.000000</td>\n",
              "      <td>495.000000</td>\n",
              "      <td>495.000000</td>\n",
              "      <td>497.000000</td>\n",
              "    </tr>\n",
              "    <tr>\n",
              "      <th>mean</th>\n",
              "      <td>25.623742</td>\n",
              "      <td>18.456740</td>\n",
              "      <td>416.492929</td>\n",
              "      <td>0.538939</td>\n",
              "      <td>0.406362</td>\n",
              "      <td>0.274804</td>\n",
              "      <td>12.646278</td>\n",
              "    </tr>\n",
              "    <tr>\n",
              "      <th>std</th>\n",
              "      <td>4.054229</td>\n",
              "      <td>8.311394</td>\n",
              "      <td>297.543620</td>\n",
              "      <td>0.130360</td>\n",
              "      <td>0.234207</td>\n",
              "      <td>0.270650</td>\n",
              "      <td>7.404316</td>\n",
              "    </tr>\n",
              "    <tr>\n",
              "      <th>min</th>\n",
              "      <td>19.000000</td>\n",
              "      <td>1.000000</td>\n",
              "      <td>2.000000</td>\n",
              "      <td>0.000000</td>\n",
              "      <td>0.000000</td>\n",
              "      <td>0.000000</td>\n",
              "      <td>-40.900000</td>\n",
              "    </tr>\n",
              "    <tr>\n",
              "      <th>25%</th>\n",
              "      <td>22.000000</td>\n",
              "      <td>12.000000</td>\n",
              "      <td>127.000000</td>\n",
              "      <td>0.500000</td>\n",
              "      <td>0.255000</td>\n",
              "      <td>0.142000</td>\n",
              "      <td>9.300000</td>\n",
              "    </tr>\n",
              "    <tr>\n",
              "      <th>50%</th>\n",
              "      <td>25.000000</td>\n",
              "      <td>20.000000</td>\n",
              "      <td>417.000000</td>\n",
              "      <td>0.556000</td>\n",
              "      <td>0.418000</td>\n",
              "      <td>0.227000</td>\n",
              "      <td>12.600000</td>\n",
              "    </tr>\n",
              "    <tr>\n",
              "      <th>75%</th>\n",
              "      <td>28.000000</td>\n",
              "      <td>26.000000</td>\n",
              "      <td>665.500000</td>\n",
              "      <td>0.607000</td>\n",
              "      <td>0.566000</td>\n",
              "      <td>0.318000</td>\n",
              "      <td>16.700000</td>\n",
              "    </tr>\n",
              "    <tr>\n",
              "      <th>max</th>\n",
              "      <td>37.000000</td>\n",
              "      <td>30.000000</td>\n",
              "      <td>1101.000000</td>\n",
              "      <td>1.500000</td>\n",
              "      <td>1.000000</td>\n",
              "      <td>2.667000</td>\n",
              "      <td>38.700000</td>\n",
              "    </tr>\n",
              "  </tbody>\n",
              "</table>\n",
              "</div>\n",
              "      <button class=\"colab-df-convert\" onclick=\"convertToInteractive('df-e0759ee1-5244-46f2-b72b-babc39f69913')\"\n",
              "              title=\"Convert this dataframe to an interactive table.\"\n",
              "              style=\"display:none;\">\n",
              "        \n",
              "  <svg xmlns=\"http://www.w3.org/2000/svg\" height=\"24px\"viewBox=\"0 0 24 24\"\n",
              "       width=\"24px\">\n",
              "    <path d=\"M0 0h24v24H0V0z\" fill=\"none\"/>\n",
              "    <path d=\"M18.56 5.44l.94 2.06.94-2.06 2.06-.94-2.06-.94-.94-2.06-.94 2.06-2.06.94zm-11 1L8.5 8.5l.94-2.06 2.06-.94-2.06-.94L8.5 2.5l-.94 2.06-2.06.94zm10 10l.94 2.06.94-2.06 2.06-.94-2.06-.94-.94-2.06-.94 2.06-2.06.94z\"/><path d=\"M17.41 7.96l-1.37-1.37c-.4-.4-.92-.59-1.43-.59-.52 0-1.04.2-1.43.59L10.3 9.45l-7.72 7.72c-.78.78-.78 2.05 0 2.83L4 21.41c.39.39.9.59 1.41.59.51 0 1.02-.2 1.41-.59l7.78-7.78 2.81-2.81c.8-.78.8-2.07 0-2.86zM5.41 20L4 18.59l7.72-7.72 1.47 1.35L5.41 20z\"/>\n",
              "  </svg>\n",
              "      </button>\n",
              "      \n",
              "  <style>\n",
              "    .colab-df-container {\n",
              "      display:flex;\n",
              "      flex-wrap:wrap;\n",
              "      gap: 12px;\n",
              "    }\n",
              "\n",
              "    .colab-df-convert {\n",
              "      background-color: #E8F0FE;\n",
              "      border: none;\n",
              "      border-radius: 50%;\n",
              "      cursor: pointer;\n",
              "      display: none;\n",
              "      fill: #1967D2;\n",
              "      height: 32px;\n",
              "      padding: 0 0 0 0;\n",
              "      width: 32px;\n",
              "    }\n",
              "\n",
              "    .colab-df-convert:hover {\n",
              "      background-color: #E2EBFA;\n",
              "      box-shadow: 0px 1px 2px rgba(60, 64, 67, 0.3), 0px 1px 3px 1px rgba(60, 64, 67, 0.15);\n",
              "      fill: #174EA6;\n",
              "    }\n",
              "\n",
              "    [theme=dark] .colab-df-convert {\n",
              "      background-color: #3B4455;\n",
              "      fill: #D2E3FC;\n",
              "    }\n",
              "\n",
              "    [theme=dark] .colab-df-convert:hover {\n",
              "      background-color: #434B5C;\n",
              "      box-shadow: 0px 1px 3px 1px rgba(0, 0, 0, 0.15);\n",
              "      filter: drop-shadow(0px 1px 2px rgba(0, 0, 0, 0.3));\n",
              "      fill: #FFFFFF;\n",
              "    }\n",
              "  </style>\n",
              "\n",
              "      <script>\n",
              "        const buttonEl =\n",
              "          document.querySelector('#df-e0759ee1-5244-46f2-b72b-babc39f69913 button.colab-df-convert');\n",
              "        buttonEl.style.display =\n",
              "          google.colab.kernel.accessAllowed ? 'block' : 'none';\n",
              "\n",
              "        async function convertToInteractive(key) {\n",
              "          const element = document.querySelector('#df-e0759ee1-5244-46f2-b72b-babc39f69913');\n",
              "          const dataTable =\n",
              "            await google.colab.kernel.invokeFunction('convertToInteractive',\n",
              "                                                     [key], {});\n",
              "          if (!dataTable) return;\n",
              "\n",
              "          const docLinkHtml = 'Like what you see? Visit the ' +\n",
              "            '<a target=\"_blank\" href=https://colab.research.google.com/notebooks/data_table.ipynb>data table notebook</a>'\n",
              "            + ' to learn more about interactive tables.';\n",
              "          element.innerHTML = '';\n",
              "          dataTable['output_type'] = 'display_data';\n",
              "          await google.colab.output.renderOutput(dataTable, element);\n",
              "          const docLink = document.createElement('div');\n",
              "          docLink.innerHTML = docLinkHtml;\n",
              "          element.appendChild(docLink);\n",
              "        }\n",
              "      </script>\n",
              "    </div>\n",
              "  </div>\n",
              "  "
            ]
          },
          "metadata": {},
          "execution_count": 6
        }
      ]
    },
    {
      "cell_type": "code",
      "source": [
        "df.info()"
      ],
      "metadata": {
        "colab": {
          "base_uri": "https://localhost:8080/"
        },
        "id": "KYS8hY90aBDQ",
        "outputId": "898ef6cd-3cbd-4074-ddf2-118c929991ee"
      },
      "execution_count": 7,
      "outputs": [
        {
          "output_type": "stream",
          "name": "stdout",
          "text": [
            "<class 'pandas.core.frame.DataFrame'>\n",
            "RangeIndex: 497 entries, 0 to 496\n",
            "Data columns (total 7 columns):\n",
            " #   Column                    Non-Null Count  Dtype  \n",
            "---  ------                    --------------  -----  \n",
            " 0   Age                       497 non-null    int64  \n",
            " 1   Games                     497 non-null    int64  \n",
            " 2   Minutes Played            495 non-null    float64\n",
            " 3   True Shooting(%)          494 non-null    float64\n",
            " 4   Threepoint Attempt rate   495 non-null    float64\n",
            " 5   Free throw attempt rate   495 non-null    float64\n",
            " 6   Player Efficiency Rating  497 non-null    float64\n",
            "dtypes: float64(5), int64(2)\n",
            "memory usage: 27.3 KB\n"
          ]
        }
      ]
    },
    {
      "cell_type": "code",
      "source": [
        "df.shape"
      ],
      "metadata": {
        "colab": {
          "base_uri": "https://localhost:8080/"
        },
        "id": "euqpAXLMaIDv",
        "outputId": "4f4e1b78-983b-4365-c33e-b0efb3fb9177"
      },
      "execution_count": 8,
      "outputs": [
        {
          "output_type": "execute_result",
          "data": {
            "text/plain": [
              "(497, 7)"
            ]
          },
          "metadata": {},
          "execution_count": 8
        }
      ]
    },
    {
      "cell_type": "code",
      "source": [
        "df.isnull().sum()"
      ],
      "metadata": {
        "colab": {
          "base_uri": "https://localhost:8080/"
        },
        "id": "_e1bfAAOaYLj",
        "outputId": "1c958fde-affd-4e13-95c7-cdb6b7691f92"
      },
      "execution_count": 9,
      "outputs": [
        {
          "output_type": "execute_result",
          "data": {
            "text/plain": [
              "Age                         0\n",
              "Games                       0\n",
              "Minutes Played              2\n",
              "True Shooting(%)            3\n",
              "Threepoint Attempt rate     2\n",
              "Free throw attempt rate     2\n",
              "Player Efficiency Rating    0\n",
              "dtype: int64"
            ]
          },
          "metadata": {},
          "execution_count": 9
        }
      ]
    },
    {
      "cell_type": "code",
      "source": [
        "df.dropna(how = \"all\",axis = 1,inplace = True)"
      ],
      "metadata": {
        "id": "GVBcYW0CbJKk"
      },
      "execution_count": 14,
      "outputs": []
    },
    {
      "cell_type": "code",
      "source": [
        "data = df.fillna({'Minutes Played':'596.0','True Shooting(%)':'0.860','Threepoint Attempt rate':'0.008','Free throw attempt rate':'0.008'})"
      ],
      "metadata": {
        "id": "oq-xOo-WbQbM"
      },
      "execution_count": 15,
      "outputs": []
    },
    {
      "cell_type": "code",
      "source": [
        "data"
      ],
      "metadata": {
        "colab": {
          "base_uri": "https://localhost:8080/",
          "height": 424
        },
        "id": "I-E24p0EbmBz",
        "outputId": "597e28b7-ddd1-4d44-f3e9-3a0e3ce71037"
      },
      "execution_count": 16,
      "outputs": [
        {
          "output_type": "execute_result",
          "data": {
            "text/plain": [
              "     Age  Games Minutes Played True Shooting(%) Threepoint Attempt rate  \\\n",
              "0     21     28          408.0            0.599                     0.0   \n",
              "1     24      6           17.0            0.125                    0.25   \n",
              "2     27     27          760.0            0.592                   0.008   \n",
              "3     23     26          873.0            0.641                   0.015   \n",
              "4     35     18          480.0            0.542                   0.298   \n",
              "..   ...    ...            ...              ...                     ...   \n",
              "492   28     28          823.0            0.559                   0.298   \n",
              "493   32     23          592.0            0.597                   0.104   \n",
              "494   22     26          901.0            0.598                   0.349   \n",
              "495   28     15          361.0            0.569                   0.133   \n",
              "496   23     30          586.0            0.722                   0.007   \n",
              "\n",
              "    Free throw attempt rate  Player Efficiency Rating  \n",
              "0                     0.541                      15.1  \n",
              "1                       0.0                      -6.9  \n",
              "2                     0.397                      15.9  \n",
              "3                     0.469                      22.7  \n",
              "4                     0.093                      15.2  \n",
              "..                      ...                       ...  \n",
              "492                   0.346                      16.6  \n",
              "493                   0.169                      18.5  \n",
              "494                   0.577                      22.9  \n",
              "495                   0.242                      18.2  \n",
              "496                     0.5                      20.5  \n",
              "\n",
              "[497 rows x 7 columns]"
            ],
            "text/html": [
              "\n",
              "  <div id=\"df-6ab63f87-0a7e-48ba-9160-c436c81ac227\">\n",
              "    <div class=\"colab-df-container\">\n",
              "      <div>\n",
              "<style scoped>\n",
              "    .dataframe tbody tr th:only-of-type {\n",
              "        vertical-align: middle;\n",
              "    }\n",
              "\n",
              "    .dataframe tbody tr th {\n",
              "        vertical-align: top;\n",
              "    }\n",
              "\n",
              "    .dataframe thead th {\n",
              "        text-align: right;\n",
              "    }\n",
              "</style>\n",
              "<table border=\"1\" class=\"dataframe\">\n",
              "  <thead>\n",
              "    <tr style=\"text-align: right;\">\n",
              "      <th></th>\n",
              "      <th>Age</th>\n",
              "      <th>Games</th>\n",
              "      <th>Minutes Played</th>\n",
              "      <th>True Shooting(%)</th>\n",
              "      <th>Threepoint Attempt rate</th>\n",
              "      <th>Free throw attempt rate</th>\n",
              "      <th>Player Efficiency Rating</th>\n",
              "    </tr>\n",
              "  </thead>\n",
              "  <tbody>\n",
              "    <tr>\n",
              "      <th>0</th>\n",
              "      <td>21</td>\n",
              "      <td>28</td>\n",
              "      <td>408.0</td>\n",
              "      <td>0.599</td>\n",
              "      <td>0.0</td>\n",
              "      <td>0.541</td>\n",
              "      <td>15.1</td>\n",
              "    </tr>\n",
              "    <tr>\n",
              "      <th>1</th>\n",
              "      <td>24</td>\n",
              "      <td>6</td>\n",
              "      <td>17.0</td>\n",
              "      <td>0.125</td>\n",
              "      <td>0.25</td>\n",
              "      <td>0.0</td>\n",
              "      <td>-6.9</td>\n",
              "    </tr>\n",
              "    <tr>\n",
              "      <th>2</th>\n",
              "      <td>27</td>\n",
              "      <td>27</td>\n",
              "      <td>760.0</td>\n",
              "      <td>0.592</td>\n",
              "      <td>0.008</td>\n",
              "      <td>0.397</td>\n",
              "      <td>15.9</td>\n",
              "    </tr>\n",
              "    <tr>\n",
              "      <th>3</th>\n",
              "      <td>23</td>\n",
              "      <td>26</td>\n",
              "      <td>873.0</td>\n",
              "      <td>0.641</td>\n",
              "      <td>0.015</td>\n",
              "      <td>0.469</td>\n",
              "      <td>22.7</td>\n",
              "    </tr>\n",
              "    <tr>\n",
              "      <th>4</th>\n",
              "      <td>35</td>\n",
              "      <td>18</td>\n",
              "      <td>480.0</td>\n",
              "      <td>0.542</td>\n",
              "      <td>0.298</td>\n",
              "      <td>0.093</td>\n",
              "      <td>15.2</td>\n",
              "    </tr>\n",
              "    <tr>\n",
              "      <th>...</th>\n",
              "      <td>...</td>\n",
              "      <td>...</td>\n",
              "      <td>...</td>\n",
              "      <td>...</td>\n",
              "      <td>...</td>\n",
              "      <td>...</td>\n",
              "      <td>...</td>\n",
              "    </tr>\n",
              "    <tr>\n",
              "      <th>492</th>\n",
              "      <td>28</td>\n",
              "      <td>28</td>\n",
              "      <td>823.0</td>\n",
              "      <td>0.559</td>\n",
              "      <td>0.298</td>\n",
              "      <td>0.346</td>\n",
              "      <td>16.6</td>\n",
              "    </tr>\n",
              "    <tr>\n",
              "      <th>493</th>\n",
              "      <td>32</td>\n",
              "      <td>23</td>\n",
              "      <td>592.0</td>\n",
              "      <td>0.597</td>\n",
              "      <td>0.104</td>\n",
              "      <td>0.169</td>\n",
              "      <td>18.5</td>\n",
              "    </tr>\n",
              "    <tr>\n",
              "      <th>494</th>\n",
              "      <td>22</td>\n",
              "      <td>26</td>\n",
              "      <td>901.0</td>\n",
              "      <td>0.598</td>\n",
              "      <td>0.349</td>\n",
              "      <td>0.577</td>\n",
              "      <td>22.9</td>\n",
              "    </tr>\n",
              "    <tr>\n",
              "      <th>495</th>\n",
              "      <td>28</td>\n",
              "      <td>15</td>\n",
              "      <td>361.0</td>\n",
              "      <td>0.569</td>\n",
              "      <td>0.133</td>\n",
              "      <td>0.242</td>\n",
              "      <td>18.2</td>\n",
              "    </tr>\n",
              "    <tr>\n",
              "      <th>496</th>\n",
              "      <td>23</td>\n",
              "      <td>30</td>\n",
              "      <td>586.0</td>\n",
              "      <td>0.722</td>\n",
              "      <td>0.007</td>\n",
              "      <td>0.5</td>\n",
              "      <td>20.5</td>\n",
              "    </tr>\n",
              "  </tbody>\n",
              "</table>\n",
              "<p>497 rows × 7 columns</p>\n",
              "</div>\n",
              "      <button class=\"colab-df-convert\" onclick=\"convertToInteractive('df-6ab63f87-0a7e-48ba-9160-c436c81ac227')\"\n",
              "              title=\"Convert this dataframe to an interactive table.\"\n",
              "              style=\"display:none;\">\n",
              "        \n",
              "  <svg xmlns=\"http://www.w3.org/2000/svg\" height=\"24px\"viewBox=\"0 0 24 24\"\n",
              "       width=\"24px\">\n",
              "    <path d=\"M0 0h24v24H0V0z\" fill=\"none\"/>\n",
              "    <path d=\"M18.56 5.44l.94 2.06.94-2.06 2.06-.94-2.06-.94-.94-2.06-.94 2.06-2.06.94zm-11 1L8.5 8.5l.94-2.06 2.06-.94-2.06-.94L8.5 2.5l-.94 2.06-2.06.94zm10 10l.94 2.06.94-2.06 2.06-.94-2.06-.94-.94-2.06-.94 2.06-2.06.94z\"/><path d=\"M17.41 7.96l-1.37-1.37c-.4-.4-.92-.59-1.43-.59-.52 0-1.04.2-1.43.59L10.3 9.45l-7.72 7.72c-.78.78-.78 2.05 0 2.83L4 21.41c.39.39.9.59 1.41.59.51 0 1.02-.2 1.41-.59l7.78-7.78 2.81-2.81c.8-.78.8-2.07 0-2.86zM5.41 20L4 18.59l7.72-7.72 1.47 1.35L5.41 20z\"/>\n",
              "  </svg>\n",
              "      </button>\n",
              "      \n",
              "  <style>\n",
              "    .colab-df-container {\n",
              "      display:flex;\n",
              "      flex-wrap:wrap;\n",
              "      gap: 12px;\n",
              "    }\n",
              "\n",
              "    .colab-df-convert {\n",
              "      background-color: #E8F0FE;\n",
              "      border: none;\n",
              "      border-radius: 50%;\n",
              "      cursor: pointer;\n",
              "      display: none;\n",
              "      fill: #1967D2;\n",
              "      height: 32px;\n",
              "      padding: 0 0 0 0;\n",
              "      width: 32px;\n",
              "    }\n",
              "\n",
              "    .colab-df-convert:hover {\n",
              "      background-color: #E2EBFA;\n",
              "      box-shadow: 0px 1px 2px rgba(60, 64, 67, 0.3), 0px 1px 3px 1px rgba(60, 64, 67, 0.15);\n",
              "      fill: #174EA6;\n",
              "    }\n",
              "\n",
              "    [theme=dark] .colab-df-convert {\n",
              "      background-color: #3B4455;\n",
              "      fill: #D2E3FC;\n",
              "    }\n",
              "\n",
              "    [theme=dark] .colab-df-convert:hover {\n",
              "      background-color: #434B5C;\n",
              "      box-shadow: 0px 1px 3px 1px rgba(0, 0, 0, 0.15);\n",
              "      filter: drop-shadow(0px 1px 2px rgba(0, 0, 0, 0.3));\n",
              "      fill: #FFFFFF;\n",
              "    }\n",
              "  </style>\n",
              "\n",
              "      <script>\n",
              "        const buttonEl =\n",
              "          document.querySelector('#df-6ab63f87-0a7e-48ba-9160-c436c81ac227 button.colab-df-convert');\n",
              "        buttonEl.style.display =\n",
              "          google.colab.kernel.accessAllowed ? 'block' : 'none';\n",
              "\n",
              "        async function convertToInteractive(key) {\n",
              "          const element = document.querySelector('#df-6ab63f87-0a7e-48ba-9160-c436c81ac227');\n",
              "          const dataTable =\n",
              "            await google.colab.kernel.invokeFunction('convertToInteractive',\n",
              "                                                     [key], {});\n",
              "          if (!dataTable) return;\n",
              "\n",
              "          const docLinkHtml = 'Like what you see? Visit the ' +\n",
              "            '<a target=\"_blank\" href=https://colab.research.google.com/notebooks/data_table.ipynb>data table notebook</a>'\n",
              "            + ' to learn more about interactive tables.';\n",
              "          element.innerHTML = '';\n",
              "          dataTable['output_type'] = 'display_data';\n",
              "          await google.colab.output.renderOutput(dataTable, element);\n",
              "          const docLink = document.createElement('div');\n",
              "          docLink.innerHTML = docLinkHtml;\n",
              "          element.appendChild(docLink);\n",
              "        }\n",
              "      </script>\n",
              "    </div>\n",
              "  </div>\n",
              "  "
            ]
          },
          "metadata": {},
          "execution_count": 16
        }
      ]
    },
    {
      "cell_type": "code",
      "source": [
        "data.isnull().sum()"
      ],
      "metadata": {
        "colab": {
          "base_uri": "https://localhost:8080/"
        },
        "id": "HNuZ7z1Ybx2Z",
        "outputId": "58e82346-467b-434a-dc58-64e60b8efe6b"
      },
      "execution_count": 20,
      "outputs": [
        {
          "output_type": "execute_result",
          "data": {
            "text/plain": [
              "Age                         0\n",
              "Games                       0\n",
              "Minutes Played              0\n",
              "True Shooting(%)            0\n",
              "Threepoint Attempt rate     0\n",
              "Free throw attempt rate     0\n",
              "Player Efficiency Rating    0\n",
              "dtype: int64"
            ]
          },
          "metadata": {},
          "execution_count": 20
        }
      ]
    },
    {
      "cell_type": "code",
      "source": [
        "x = data.iloc[:,:-1].values"
      ],
      "metadata": {
        "id": "X2fGp5FUaoK8"
      },
      "execution_count": 21,
      "outputs": []
    },
    {
      "cell_type": "code",
      "source": [
        "y = data.iloc[:,-1].values"
      ],
      "metadata": {
        "id": "-tkZ0M3MauVX"
      },
      "execution_count": 22,
      "outputs": []
    },
    {
      "cell_type": "code",
      "source": [
        "x"
      ],
      "metadata": {
        "colab": {
          "base_uri": "https://localhost:8080/"
        },
        "id": "1H1eb7TXa3sJ",
        "outputId": "86626367-f8c4-4b9b-8cd1-9b845f857240"
      },
      "execution_count": 23,
      "outputs": [
        {
          "output_type": "execute_result",
          "data": {
            "text/plain": [
              "array([[21, 28, 408.0, 0.599, 0.0, 0.541],\n",
              "       [24, 6, 17.0, 0.125, 0.25, 0.0],\n",
              "       [27, 27, 760.0, 0.592, '0.008', 0.397],\n",
              "       ...,\n",
              "       [22, 26, 901.0, 0.598, 0.349, 0.577],\n",
              "       [28, 15, 361.0, 0.569, 0.133, 0.242],\n",
              "       [23, 30, 586.0, 0.722, 0.007, 0.5]], dtype=object)"
            ]
          },
          "metadata": {},
          "execution_count": 23
        }
      ]
    },
    {
      "cell_type": "code",
      "source": [
        "y"
      ],
      "metadata": {
        "colab": {
          "base_uri": "https://localhost:8080/"
        },
        "id": "ZxpeucnCa41k",
        "outputId": "bc098a73-484b-4720-849e-07bacef3962b"
      },
      "execution_count": 24,
      "outputs": [
        {
          "output_type": "execute_result",
          "data": {
            "text/plain": [
              "array([ 15.1,  -6.9,  15.9,  22.7,  15.2, -11.9,  12. ,  14. ,  22.5,\n",
              "        21.3,  23.5,   7.5,  17.8,  28.3,  -9.1,  10.3,  13.8,  10.3,\n",
              "        14.7,  11.2,  10.8,   8.9,  17.7,  10.6,  10.7,  13.9,  18.2,\n",
              "        14.2,  23.4,  12.6,  15.7,  13.1,  11.6,   0.3,  14.8,   8.4,\n",
              "        14.7,   9.6,  24.8,  16.7,   8. ,  13.2,  11.5,  13.7,  13. ,\n",
              "        14. ,  16.1,  18.3,  12.6,  12.6,  12.6,  -6. ,   9.9,  12.3,\n",
              "         4.7,  13.4,   9. ,   5. ,  17.2,  23.4,  17.8,  10.4,  20.3,\n",
              "        10.3,  11.4,  16.3,  12. ,  18.3,  10.3,  12.8,  22.3,  33.5,\n",
              "        12.9,   5.4,  16.4,  18.8,   8.9,  13.7,  13.5,  24.2,   9.2,\n",
              "        38.7,   9.8,  12.1,   2.1,  23.1,  29.8,   8.3,  17.1,   8.2,\n",
              "        11.5,  14.8,  10.7,  11.9,   5.3,  16.6,  19. ,  10.1,  19.3,\n",
              "        19.8,  13.2,  12.4,  15.1,  10. ,  11.6,  11.5,  10.7,  14.1,\n",
              "        25.6,  24.7,  12.2,  11.2,  21.7,  15.9,  18.6,  10.1,  12.7,\n",
              "        26.8,   9.5,   9.9,   6.7,   6.1,  13.6,  13.4,  20.9,  11.5,\n",
              "        25.1,  10.5,  12.2,  12.2,  12.8,  30.8,  12.7,  12.4,   6.1,\n",
              "        22.5,  20.6,  18.1,  -5.9,   7.4,  12.7,  11. ,   4.5,  11.8,\n",
              "         9.2,  17.5,  19.9,   0.3,  12.2,  -1.4,  17.6,  12.5,  13.2,\n",
              "        12.9,  10.3,  13.9,  23.2,  10.6,  11.3,  21.6,   7.9,  23.2,\n",
              "         8.1,  14.9,  16.8,  12.1,  18.7,   9.7,  10.3,  14.6,  12.7,\n",
              "        12.2,   6.4,  10. ,  11.8,  12.9, -12.6,  17.5,  -2.3,   7.3,\n",
              "        14.2,  24.2,  22.7,  24.9,   4.6, -11.9,  21.3,   9.3, -10.5,\n",
              "        14.9,  19.7,   7. ,  12.5,  19.1,  15.5,  -1.4,  18.7,  10.5,\n",
              "        20.6,  12.1,  10.7,  16. ,   6.4,  -6.5,   7.1,  19.9,  12.4,\n",
              "        18.2,   5. ,  17.6,  11.7,   8.9,  13.9,  -6.4,  11.9,   9.8,\n",
              "        17.5,   0.5,  18.2,   8.9,  16.7,  20.4,  25.3,   3.6,   1.5,\n",
              "        12.2,  12.1,  13.3,   6.6,  24.2,   3.5,  10.3,  13.2,  12.3,\n",
              "        15.3,   9.6,  11.1,  31.4,   3.9,  11.3,  11.8,  19.6,  14.2,\n",
              "        16.7,  10.8,  -0.8,  16.2,  21.9,  10.8,  11.4,  16.9,   8.1,\n",
              "        13.3,   8.1,   3.7,   3.2,   7.6,   2. ,  13.1,  17.8,  22.7,\n",
              "        13. ,  24.2,  11.2,   7. ,  15.5,   4.3,  19.5,  27.5,   6.6,\n",
              "        19.1,  11.7,  27.1,  16.3,  13.9,  13.4,  15. ,  11.2,  16.3,\n",
              "         9.8,  11.6,  18.9,   8.2,  -0.7,  11.2,   7.8,  21.2,  17.2,\n",
              "        -0.4,  11.9,  13.5,   1.4,   9.1,   7.6,  13.9,   9.8,   8.2,\n",
              "        13.4,  19.3,  26.4,  15.2,   8. ,   7.2,  13.8,   7.6,  16.5,\n",
              "        11.1,  22.7,  13.1,   8.6,   5.8,  15.6,  12.5,  20.3,  20.1,\n",
              "        12.5,  14.7,  17. ,  15.3,  18.9,   5.4,  13. ,   8.7,  18.7,\n",
              "         7.5,  15. ,   8.9,  14.9,  11.2,  16.4,  15.8,  14.6,  11.6,\n",
              "        14.8,  13.2,   4.4,  13.6,   8.3,  12.5,  14.3,  15.3,  12.4,\n",
              "        12.3,  16.1,  13.4,  12.9,  10.5,   9.2,  15.6,   9.4,   7.7,\n",
              "        12.2,   5.6,   3.2,  14.5,  16. ,  13.2,  12. ,   6. ,  11.2,\n",
              "        21.6,  12.4,  15. , -40.9,   8.4,  20.4,  13.5,  11.9,   2.1,\n",
              "         9.7,  -9.7,  17.2,  16.5,  10.4,   2.4,  14.6,  17.3,  16.5,\n",
              "        20.9,  21.2,  12.7,  15.3,  11.7,  11.7,  11.7,  11.9,  18.4,\n",
              "        11.5,   1.3,  20.7,   9.3,  10.1,   8.6,  18.9,  13.3,  11. ,\n",
              "         9.7,   8.8,   9.2,   6. ,  17.5,  16.2,   8.9,  17.3,  17.4,\n",
              "        17. ,  12.6,  18.3,  11.2,  16.4,  20.7,   9.9,  12.1,  16.7,\n",
              "        14.3,  12.6,   3.9,  17.3,   9.1,  17.6,  16.2,  19.9,  12.7,\n",
              "        -9.8,  14.6,   8.5,   7. ,   9.3,  10.6,   7.7,   7.3,   0.9,\n",
              "         6.9,   9.2,  14.1,  13.8,  11.4,  13.4,  21.4,   8.2,   9.6,\n",
              "         6. ,  15.5,   7.4,  10.5,  13.6,   8.7,   9.1,  15. ,  12.7,\n",
              "        12.4,  23.9,  14. ,   5.5,  17. ,  22.1,  11.8,  16.7,  18.3,\n",
              "        12.5,   5.5, -20.9,  23.4,   6.1,  15.4,  14.2,   8.6,  17.3,\n",
              "         9.2,  12. ,  12.8,  11.1,   5.4,  23. , -10.2,  14.4,  10.9,\n",
              "        15. ,  22.2,  14. ,   8. ,  13.4,  16.5,   9.8,  24.1,  27. ,\n",
              "         8. ,  13.4,   9.8,  15.1,  24.1,  22.9,  16.6,  18.5,  22.9,\n",
              "        18.2,  20.5])"
            ]
          },
          "metadata": {},
          "execution_count": 24
        }
      ]
    },
    {
      "cell_type": "code",
      "source": [
        "from sklearn.model_selection import train_test_split"
      ],
      "metadata": {
        "id": "zyoUHJL0cAFJ"
      },
      "execution_count": 25,
      "outputs": []
    },
    {
      "cell_type": "code",
      "source": [
        "x_train,x_test,y_train,y_test=train_test_split(x,y,test_size=0.2,random_state=0)"
      ],
      "metadata": {
        "id": "6EqIy6XFcR74"
      },
      "execution_count": 26,
      "outputs": []
    },
    {
      "cell_type": "code",
      "source": [
        "x_train.shape"
      ],
      "metadata": {
        "colab": {
          "base_uri": "https://localhost:8080/"
        },
        "id": "PS2zXcnWcZG-",
        "outputId": "bf205563-fda2-4b6d-8a11-5c93ec520a15"
      },
      "execution_count": 27,
      "outputs": [
        {
          "output_type": "execute_result",
          "data": {
            "text/plain": [
              "(397, 6)"
            ]
          },
          "metadata": {},
          "execution_count": 27
        }
      ]
    },
    {
      "cell_type": "code",
      "source": [
        "x_test.shape"
      ],
      "metadata": {
        "colab": {
          "base_uri": "https://localhost:8080/"
        },
        "id": "VdrAbRpGcdBZ",
        "outputId": "104dbb50-d6b1-458b-8b48-f21264582398"
      },
      "execution_count": 28,
      "outputs": [
        {
          "output_type": "execute_result",
          "data": {
            "text/plain": [
              "(100, 6)"
            ]
          },
          "metadata": {},
          "execution_count": 28
        }
      ]
    },
    {
      "cell_type": "code",
      "source": [
        "y_train.shape"
      ],
      "metadata": {
        "colab": {
          "base_uri": "https://localhost:8080/"
        },
        "id": "gI_SusCdclCe",
        "outputId": "0e1cceee-d97a-45d4-c730-712da5beb9a6"
      },
      "execution_count": 29,
      "outputs": [
        {
          "output_type": "execute_result",
          "data": {
            "text/plain": [
              "(397,)"
            ]
          },
          "metadata": {},
          "execution_count": 29
        }
      ]
    },
    {
      "cell_type": "code",
      "source": [
        "y_test.shape"
      ],
      "metadata": {
        "colab": {
          "base_uri": "https://localhost:8080/"
        },
        "id": "XORgjUOccrZ7",
        "outputId": "23e8bd65-5457-48f4-c2e2-d733f23e0842"
      },
      "execution_count": 30,
      "outputs": [
        {
          "output_type": "execute_result",
          "data": {
            "text/plain": [
              "(100,)"
            ]
          },
          "metadata": {},
          "execution_count": 30
        }
      ]
    },
    {
      "cell_type": "code",
      "source": [
        "from sklearn.linear_model import LinearRegression"
      ],
      "metadata": {
        "id": "OxP9Pd2gcukk"
      },
      "execution_count": 31,
      "outputs": []
    },
    {
      "cell_type": "code",
      "source": [
        "lm = LinearRegression()"
      ],
      "metadata": {
        "id": "hoczgzMcc0z2"
      },
      "execution_count": 32,
      "outputs": []
    },
    {
      "cell_type": "code",
      "source": [
        "lm.fit(x_test,y_test)"
      ],
      "metadata": {
        "colab": {
          "base_uri": "https://localhost:8080/"
        },
        "id": "BBiCINKic3wh",
        "outputId": "29ba0ab9-4de9-45c3-daa4-5bdcb17e9298"
      },
      "execution_count": 33,
      "outputs": [
        {
          "output_type": "execute_result",
          "data": {
            "text/plain": [
              "LinearRegression()"
            ]
          },
          "metadata": {},
          "execution_count": 33
        }
      ]
    },
    {
      "cell_type": "code",
      "source": [
        "y_pred=lm.predict(x_test)"
      ],
      "metadata": {
        "id": "XzHHAUbuc_SZ"
      },
      "execution_count": 34,
      "outputs": []
    },
    {
      "cell_type": "code",
      "source": [
        "y_pred"
      ],
      "metadata": {
        "colab": {
          "base_uri": "https://localhost:8080/"
        },
        "id": "WB9p9rcndCJp",
        "outputId": "f10f0c48-dcd6-4097-c4eb-86913f0ccdef"
      },
      "execution_count": 35,
      "outputs": [
        {
          "output_type": "execute_result",
          "data": {
            "text/plain": [
              "array([12.67790124,  0.5517492 ,  4.78038058,  9.24888876, 12.24673   ,\n",
              "       15.62648606, 14.28262444,  7.39854837, 18.32218655, 14.47355662,\n",
              "       15.46545191, 11.0712827 ,  5.85366696,  8.95857336, 17.03731414,\n",
              "       15.00829543, 11.28628819,  7.59457574, 11.57289199, 12.69973582,\n",
              "       16.88136165, 10.36540931, 11.15381471, 19.83931668, 10.97464706,\n",
              "       11.59160131, 10.99386478, 17.75817199, 14.30336768, 11.85857343,\n",
              "       11.69443916, 13.39149178, 14.86618646,  5.64495947, 15.92603891,\n",
              "       12.32847963, 12.94209509,  7.5627827 , 14.24549423, 10.66890766,\n",
              "       10.13084475, 15.63608772, 14.90411817, 18.35176517, 12.352993  ,\n",
              "       -3.7717092 , -2.94326946, 11.8997842 ,  6.55967151, 10.26698589,\n",
              "       13.4360895 , 13.74856327, 12.17773098,  3.03245809, 15.60179618,\n",
              "       15.34345063,  8.66292747, 12.0229581 ,  2.14969321, 11.86550201,\n",
              "       12.75525473, 17.05804589, 13.36648892, 16.21141221,  8.85755633,\n",
              "       18.83909313, 26.74971124,  6.41555034,  8.9181707 , 20.49612341,\n",
              "        2.30925702, 18.49392961, 16.78576121, 12.32419275, 14.95901582,\n",
              "       14.70590229, 11.69914963, 10.89862398, 11.55108049,  8.26499348,\n",
              "       13.2822823 ,  9.89330739,  9.11365044,  8.64310835, 11.06804564,\n",
              "       14.96708055, 16.99384471, 12.27685278, 17.41470152,  8.45560321,\n",
              "       17.80181565, 20.09943421, 13.59482821, 14.25098344,  6.61373988,\n",
              "       10.73072983,  8.67581697, 16.52069479, 17.03724837,  7.33034569])"
            ]
          },
          "metadata": {},
          "execution_count": 35
        }
      ]
    },
    {
      "cell_type": "code",
      "source": [
        "plt.plot(y_test,color=\"red\")\n",
        "plt.plot(y_pred,color=\"blue\")"
      ],
      "metadata": {
        "colab": {
          "base_uri": "https://localhost:8080/",
          "height": 282
        },
        "id": "0H5gzRVMdLS1",
        "outputId": "e269315f-0024-446d-c6a6-e2a04f5f0dc9"
      },
      "execution_count": 37,
      "outputs": [
        {
          "output_type": "execute_result",
          "data": {
            "text/plain": [
              "[<matplotlib.lines.Line2D at 0x7f8ba3e37b50>]"
            ]
          },
          "metadata": {},
          "execution_count": 37
        },
        {
          "output_type": "display_data",
          "data": {
            "text/plain": [
              "<Figure size 432x288 with 1 Axes>"
            ],
            "image/png": "[encoded data removed]"
          },
          "metadata": {
            "needs_background": "light"
          }
        }
      ]
    },
    {
      "cell_type": "code",
      "source": [
        "from sklearn.metrics import mean_squared_error,mean_absolute_error,r2_score"
      ],
      "metadata": {
        "id": "kz_fJY8ZdL-c"
      },
      "execution_count": 38,
      "outputs": []
    },
    {
      "cell_type": "code",
      "source": [
        "mean_squared_error(y_test,y_pred)"
      ],
      "metadata": {
        "colab": {
          "base_uri": "https://localhost:8080/"
        },
        "id": "TWEoOfzidZGU",
        "outputId": "3395cb9f-b89a-4d73-b16b-71face934b9d"
      },
      "execution_count": 39,
      "outputs": [
        {
          "output_type": "execute_result",
          "data": {
            "text/plain": [
              "9.02239020482387"
            ]
          },
          "metadata": {},
          "execution_count": 39
        }
      ]
    },
    {
      "cell_type": "code",
      "source": [
        "r2_score(y_test,y_pred)"
      ],
      "metadata": {
        "colab": {
          "base_uri": "https://localhost:8080/"
        },
        "id": "YciJ80nudczr",
        "outputId": "2af9f049-6aec-4bfc-f616-04f590447eba"
      },
      "execution_count": 40,
      "outputs": [
        {
          "output_type": "execute_result",
          "data": {
            "text/plain": [
              "0.7220638774193946"
            ]
          },
          "metadata": {},
          "execution_count": 40
        }
      ]
    },
    {
      "cell_type": "code",
      "source": [
        "lm.score(x,y)"
      ],
      "metadata": {
        "colab": {
          "base_uri": "https://localhost:8080/"
        },
        "id": "UlftHiqMdiha",
        "outputId": "0efbffea-1964-4d7b-8814-b8da54d60763"
      },
      "execution_count": 41,
      "outputs": [
        {
          "output_type": "execute_result",
          "data": {
            "text/plain": [
              "0.6160770014151866"
            ]
          },
          "metadata": {},
          "execution_count": 41
        }
      ]
    }
  ]
}